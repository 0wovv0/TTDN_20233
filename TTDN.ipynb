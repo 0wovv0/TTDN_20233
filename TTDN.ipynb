{
 "cells": [
  {
   "cell_type": "code",
   "execution_count": 26,
   "metadata": {},
   "outputs": [],
   "source": [
    "import cv2\n",
    "import matplotlib.pyplot as plt\n",
    "from ultralytics import YOLO"
   ]
  },
  {
   "cell_type": "code",
   "execution_count": 27,
   "metadata": {},
   "outputs": [],
   "source": [
    "model = YOLO('runs\\\\obb\\\\train12\\\\weights\\\\last.pt')\n",
    "letterModel = YOLO('runs\\\\detect\\\\train12\\\\weights\\\\best.pt')"
   ]
  },
  {
   "cell_type": "code",
   "execution_count": null,
   "metadata": {},
   "outputs": [],
   "source": [
    "from ultralytics import YOLO\n",
    "\n",
    "# Tạo mô hình YOLOv8 OBb\n",
    "model = YOLO(\"yolov8n-obb.yaml\")  # build a new model from YAML\n",
    "\n",
    "model = model.to('cuda')  # Đưa mô hình lên GPU\n",
    "\n",
    "# Huấn luyện mô hình\n",
    "model.train(data='dataset.yaml', epochs=50, imgsz=640, batch=16, amp=False)\n",
    "\n",
    "metrics = model.val()  # Đánh giá mô hình"
   ]
  },
  {
   "cell_type": "markdown",
   "metadata": {},
   "source": [
    "**Xóa các tệp sai!**"
   ]
  },
  {
   "cell_type": "code",
   "execution_count": 2,
   "metadata": {},
   "outputs": [
    {
     "name": "stdout",
     "output_type": "stream",
     "text": [
      "New https://pypi.org/project/ultralytics/8.2.83 available  Update with 'pip install -U ultralytics'\n",
      "\u001b[34m\u001b[1mengine\\trainer: \u001b[0mtask=detect, mode=train, model=yolov8n.yaml, data=characterDetect.yaml, epochs=40, time=None, patience=100, batch=16, imgsz=640, save=True, save_period=-1, cache=False, device=cuda:0, workers=8, project=None, name=train12, exist_ok=False, pretrained=True, optimizer=auto, verbose=True, seed=0, deterministic=True, single_cls=False, rect=False, cos_lr=False, close_mosaic=10, resume=False, amp=False, fraction=1.0, profile=False, freeze=None, multi_scale=False, overlap_mask=True, mask_ratio=4, dropout=0.0, val=True, split=val, save_json=False, save_hybrid=False, conf=None, iou=0.7, max_det=300, half=False, dnn=False, plots=True, source=None, vid_stride=1, stream_buffer=False, visualize=False, augment=False, agnostic_nms=False, classes=None, retina_masks=False, embed=None, show=False, save_frames=False, save_txt=False, save_conf=False, save_crop=False, show_labels=True, show_conf=True, show_boxes=True, line_width=None, format=torchscript, keras=False, optimize=False, int8=False, dynamic=False, simplify=False, opset=None, workspace=4, nms=False, lr0=0.01, lrf=0.01, momentum=0.937, weight_decay=0.0005, warmup_epochs=3.0, warmup_momentum=0.8, warmup_bias_lr=0.1, box=7.5, cls=0.5, dfl=1.5, pose=12.0, kobj=1.0, label_smoothing=0.0, nbs=64, hsv_h=0.015, hsv_s=0.7, hsv_v=0.4, degrees=0.0, translate=0.1, scale=0.5, shear=0.0, perspective=0.0, flipud=0.0, fliplr=0.5, bgr=0.0, mosaic=1.0, mixup=0.0, copy_paste=0.0, auto_augment=randaugment, erasing=0.4, crop_fraction=1.0, cfg=None, tracker=botsort.yaml, save_dir=runs\\detect\\train12\n",
      "Overriding model.yaml nc=80 with nc=36\n",
      "\n",
      "                   from  n    params  module                                       arguments                     \n",
      "  0                  -1  1       464  ultralytics.nn.modules.conv.Conv             [3, 16, 3, 2]                 \n",
      "  1                  -1  1      4672  ultralytics.nn.modules.conv.Conv             [16, 32, 3, 2]                \n",
      "  2                  -1  1      7360  ultralytics.nn.modules.block.C2f             [32, 32, 1, True]             \n",
      "  3                  -1  1     18560  ultralytics.nn.modules.conv.Conv             [32, 64, 3, 2]                \n",
      "  4                  -1  2     49664  ultralytics.nn.modules.block.C2f             [64, 64, 2, True]             \n",
      "  5                  -1  1     73984  ultralytics.nn.modules.conv.Conv             [64, 128, 3, 2]               \n",
      "  6                  -1  2    197632  ultralytics.nn.modules.block.C2f             [128, 128, 2, True]           \n",
      "  7                  -1  1    295424  ultralytics.nn.modules.conv.Conv             [128, 256, 3, 2]              \n",
      "  8                  -1  1    460288  ultralytics.nn.modules.block.C2f             [256, 256, 1, True]           \n",
      "  9                  -1  1    164608  ultralytics.nn.modules.block.SPPF            [256, 256, 5]                 \n",
      " 10                  -1  1         0  torch.nn.modules.upsampling.Upsample         [None, 2, 'nearest']          \n",
      " 11             [-1, 6]  1         0  ultralytics.nn.modules.conv.Concat           [1]                           \n",
      " 12                  -1  1    148224  ultralytics.nn.modules.block.C2f             [384, 128, 1]                 \n",
      " 13                  -1  1         0  torch.nn.modules.upsampling.Upsample         [None, 2, 'nearest']          \n",
      " 14             [-1, 4]  1         0  ultralytics.nn.modules.conv.Concat           [1]                           \n",
      " 15                  -1  1     37248  ultralytics.nn.modules.block.C2f             [192, 64, 1]                  \n",
      " 16                  -1  1     36992  ultralytics.nn.modules.conv.Conv             [64, 64, 3, 2]                \n",
      " 17            [-1, 12]  1         0  ultralytics.nn.modules.conv.Concat           [1]                           \n",
      " 18                  -1  1    123648  ultralytics.nn.modules.block.C2f             [192, 128, 1]                 \n",
      " 19                  -1  1    147712  ultralytics.nn.modules.conv.Conv             [128, 128, 3, 2]              \n",
      " 20             [-1, 9]  1         0  ultralytics.nn.modules.conv.Concat           [1]                           \n",
      " 21                  -1  1    493056  ultralytics.nn.modules.block.C2f             [384, 256, 1]                 \n",
      " 22        [15, 18, 21]  1    758332  ultralytics.nn.modules.head.Detect           [36, [64, 128, 256]]          \n",
      "YOLOv8n summary: 225 layers, 3,017,868 parameters, 3,017,852 gradients\n",
      "\n",
      "Freezing layer 'model.22.dfl.conv.weight'\n"
     ]
    },
    {
     "name": "stderr",
     "output_type": "stream",
     "text": [
      "c:\\Users\\Hokta\\anaconda3\\envs\\TTDN_20233\\Lib\\site-packages\\ultralytics\\engine\\trainer.py:271: FutureWarning: `torch.cuda.amp.GradScaler(args...)` is deprecated. Please use `torch.amp.GradScaler('cuda', args...)` instead.\n",
      "  self.scaler = torch.cuda.amp.GradScaler(enabled=self.amp)\n",
      "\u001b[34m\u001b[1mtrain: \u001b[0mScanning C:\\Users\\Hokta\\OneDrive\\Máy tính\\TTDN_20233\\DataSet\\yoloData\\OCR\\labels\\train... 9198 images, 27 backgrounds, 0 corrupt: 100%|██████████| 9198/9198 [00:20<00:00, 444.60it/s] "
     ]
    },
    {
     "name": "stdout",
     "output_type": "stream",
     "text": [
      "\u001b[34m\u001b[1mtrain: \u001b[0mWARNING  C:\\Users\\Hokta\\OneDrive\\My tnh\\TTDN_20233\\DataSet\\yoloData\\OCR\\images\\train\\1ndata148.jpg: 1 duplicate labels removed\n",
      "\u001b[34m\u001b[1mtrain: \u001b[0mWARNING  C:\\Users\\Hokta\\OneDrive\\My tnh\\TTDN_20233\\DataSet\\yoloData\\OCR\\images\\train\\1ndata301.jpg: 1 duplicate labels removed\n",
      "\u001b[34m\u001b[1mtrain: \u001b[0mWARNING  C:\\Users\\Hokta\\OneDrive\\My tnh\\TTDN_20233\\DataSet\\yoloData\\OCR\\images\\train\\2ndata148.jpg: 1 duplicate labels removed\n",
      "\u001b[34m\u001b[1mtrain: \u001b[0mWARNING  C:\\Users\\Hokta\\OneDrive\\My tnh\\TTDN_20233\\DataSet\\yoloData\\OCR\\images\\train\\2ndata301.jpg: 1 duplicate labels removed\n",
      "\u001b[34m\u001b[1mtrain: \u001b[0mWARNING  C:\\Users\\Hokta\\OneDrive\\My tnh\\TTDN_20233\\DataSet\\yoloData\\OCR\\images\\train\\ndata148.jpg: 1 duplicate labels removed\n",
      "\u001b[34m\u001b[1mtrain: \u001b[0mWARNING  C:\\Users\\Hokta\\OneDrive\\My tnh\\TTDN_20233\\DataSet\\yoloData\\OCR\\images\\train\\ndata301.jpg: 1 duplicate labels removed\n"
     ]
    },
    {
     "name": "stderr",
     "output_type": "stream",
     "text": [
      "\n"
     ]
    },
    {
     "name": "stdout",
     "output_type": "stream",
     "text": [
      "\u001b[34m\u001b[1mtrain: \u001b[0mNew cache created: C:\\Users\\Hokta\\OneDrive\\My tnh\\TTDN_20233\\DataSet\\yoloData\\OCR\\labels\\train.cache\n"
     ]
    },
    {
     "name": "stderr",
     "output_type": "stream",
     "text": [
      "\u001b[34m\u001b[1mval: \u001b[0mScanning C:\\Users\\Hokta\\OneDrive\\Máy tính\\TTDN_20233\\DataSet\\yoloData\\OCR\\labels\\val... 767 images, 2 backgrounds, 0 corrupt: 100%|██████████| 767/767 [00:04<00:00, 187.08it/s]\n"
     ]
    },
    {
     "name": "stdout",
     "output_type": "stream",
     "text": [
      "\u001b[34m\u001b[1mval: \u001b[0mNew cache created: C:\\Users\\Hokta\\OneDrive\\My tnh\\TTDN_20233\\DataSet\\yoloData\\OCR\\labels\\val.cache\n",
      "Plotting labels to runs\\detect\\train12\\labels.jpg... \n",
      "\u001b[34m\u001b[1moptimizer:\u001b[0m 'optimizer=auto' found, ignoring 'lr0=0.01' and 'momentum=0.937' and determining best 'optimizer', 'lr0' and 'momentum' automatically... \n",
      "\u001b[34m\u001b[1moptimizer:\u001b[0m AdamW(lr=0.00025, momentum=0.9) with parameter groups 57 weight(decay=0.0), 64 weight(decay=0.0005), 63 bias(decay=0.0)\n",
      "Image sizes 640 train, 640 val\n",
      "Using 8 dataloader workers\n",
      "Logging results to \u001b[1mruns\\detect\\train12\u001b[0m\n",
      "Starting training for 40 epochs...\n",
      "\n",
      "      Epoch    GPU_mem   box_loss   cls_loss   dfl_loss  Instances       Size\n"
     ]
    },
    {
     "name": "stderr",
     "output_type": "stream",
     "text": [
      "       1/40      4.11G      3.361       4.63      3.559        198        640: 100%|██████████| 575/575 [06:15<00:00,  1.53it/s]\n",
      "                 Class     Images  Instances      Box(P          R      mAP50  mAP50-95): 100%|██████████| 24/24 [00:15<00:00,  1.56it/s]"
     ]
    },
    {
     "name": "stdout",
     "output_type": "stream",
     "text": [
      "                   all        767       6236      0.704      0.181      0.164     0.0957\n"
     ]
    },
    {
     "name": "stderr",
     "output_type": "stream",
     "text": [
      "\n"
     ]
    },
    {
     "name": "stdout",
     "output_type": "stream",
     "text": [
      "\n",
      "      Epoch    GPU_mem   box_loss   cls_loss   dfl_loss  Instances       Size\n"
     ]
    },
    {
     "name": "stderr",
     "output_type": "stream",
     "text": [
      "       2/40      4.04G      1.519      2.071      1.782        220        640: 100%|██████████| 575/575 [06:13<00:00,  1.54it/s]\n",
      "                 Class     Images  Instances      Box(P          R      mAP50  mAP50-95): 100%|██████████| 24/24 [00:15<00:00,  1.55it/s]"
     ]
    },
    {
     "name": "stdout",
     "output_type": "stream",
     "text": [
      "                   all        767       6236      0.607      0.405       0.48      0.329\n"
     ]
    },
    {
     "name": "stderr",
     "output_type": "stream",
     "text": [
      "\n"
     ]
    },
    {
     "name": "stdout",
     "output_type": "stream",
     "text": [
      "\n",
      "      Epoch    GPU_mem   box_loss   cls_loss   dfl_loss  Instances       Size\n"
     ]
    },
    {
     "name": "stderr",
     "output_type": "stream",
     "text": [
      "       3/40      4.04G      1.233      1.426      1.452        233        640: 100%|██████████| 575/575 [06:12<00:00,  1.54it/s]\n",
      "                 Class     Images  Instances      Box(P          R      mAP50  mAP50-95): 100%|██████████| 24/24 [00:13<00:00,  1.74it/s]"
     ]
    },
    {
     "name": "stdout",
     "output_type": "stream",
     "text": [
      "                   all        767       6236      0.753      0.766      0.823      0.577\n"
     ]
    },
    {
     "name": "stderr",
     "output_type": "stream",
     "text": [
      "\n"
     ]
    },
    {
     "name": "stdout",
     "output_type": "stream",
     "text": [
      "\n",
      "      Epoch    GPU_mem   box_loss   cls_loss   dfl_loss  Instances       Size\n"
     ]
    },
    {
     "name": "stderr",
     "output_type": "stream",
     "text": [
      "       4/40      4.16G       1.15      1.178      1.358        224        640: 100%|██████████| 575/575 [06:36<00:00,  1.45it/s]\n",
      "                 Class     Images  Instances      Box(P          R      mAP50  mAP50-95): 100%|██████████| 24/24 [00:15<00:00,  1.60it/s]"
     ]
    },
    {
     "name": "stdout",
     "output_type": "stream",
     "text": [
      "                   all        767       6236      0.835      0.844      0.881      0.643\n"
     ]
    },
    {
     "name": "stderr",
     "output_type": "stream",
     "text": [
      "\n"
     ]
    },
    {
     "name": "stdout",
     "output_type": "stream",
     "text": [
      "\n",
      "      Epoch    GPU_mem   box_loss   cls_loss   dfl_loss  Instances       Size\n"
     ]
    },
    {
     "name": "stderr",
     "output_type": "stream",
     "text": [
      "       5/40      3.99G      1.101      1.032      1.306        209        640: 100%|██████████| 575/575 [06:13<00:00,  1.54it/s]\n",
      "                 Class     Images  Instances      Box(P          R      mAP50  mAP50-95): 100%|██████████| 24/24 [00:13<00:00,  1.73it/s]"
     ]
    },
    {
     "name": "stdout",
     "output_type": "stream",
     "text": [
      "                   all        767       6236      0.872      0.876      0.923      0.676\n"
     ]
    },
    {
     "name": "stderr",
     "output_type": "stream",
     "text": [
      "\n"
     ]
    },
    {
     "name": "stdout",
     "output_type": "stream",
     "text": [
      "\n",
      "      Epoch    GPU_mem   box_loss   cls_loss   dfl_loss  Instances       Size\n"
     ]
    },
    {
     "name": "stderr",
     "output_type": "stream",
     "text": [
      "       6/40      4.11G      1.075     0.9436       1.28        204        640: 100%|██████████| 575/575 [06:44<00:00,  1.42it/s]\n",
      "                 Class     Images  Instances      Box(P          R      mAP50  mAP50-95): 100%|██████████| 24/24 [00:15<00:00,  1.55it/s]"
     ]
    },
    {
     "name": "stdout",
     "output_type": "stream",
     "text": [
      "                   all        767       6236      0.934      0.894      0.947        0.7\n"
     ]
    },
    {
     "name": "stderr",
     "output_type": "stream",
     "text": [
      "\n"
     ]
    },
    {
     "name": "stdout",
     "output_type": "stream",
     "text": [
      "\n",
      "      Epoch    GPU_mem   box_loss   cls_loss   dfl_loss  Instances       Size\n"
     ]
    },
    {
     "name": "stderr",
     "output_type": "stream",
     "text": [
      "       7/40      4.13G      1.056     0.8824      1.261        205        640: 100%|██████████| 575/575 [06:45<00:00,  1.42it/s]\n",
      "                 Class     Images  Instances      Box(P          R      mAP50  mAP50-95): 100%|██████████| 24/24 [00:20<00:00,  1.16it/s]"
     ]
    },
    {
     "name": "stdout",
     "output_type": "stream",
     "text": [
      "                   all        767       6236      0.931      0.917      0.953      0.697\n"
     ]
    },
    {
     "name": "stderr",
     "output_type": "stream",
     "text": [
      "\n"
     ]
    },
    {
     "name": "stdout",
     "output_type": "stream",
     "text": [
      "\n",
      "      Epoch    GPU_mem   box_loss   cls_loss   dfl_loss  Instances       Size\n"
     ]
    },
    {
     "name": "stderr",
     "output_type": "stream",
     "text": [
      "       8/40      4.03G      1.038     0.8367      1.247        160        640: 100%|██████████| 575/575 [06:14<00:00,  1.54it/s]\n",
      "                 Class     Images  Instances      Box(P          R      mAP50  mAP50-95): 100%|██████████| 24/24 [00:15<00:00,  1.59it/s]"
     ]
    },
    {
     "name": "stdout",
     "output_type": "stream",
     "text": [
      "                   all        767       6236      0.935      0.905      0.956       0.71\n"
     ]
    },
    {
     "name": "stderr",
     "output_type": "stream",
     "text": [
      "\n"
     ]
    },
    {
     "name": "stdout",
     "output_type": "stream",
     "text": [
      "\n",
      "      Epoch    GPU_mem   box_loss   cls_loss   dfl_loss  Instances       Size\n"
     ]
    },
    {
     "name": "stderr",
     "output_type": "stream",
     "text": [
      "       9/40      4.05G      1.029     0.8051      1.237        169        640: 100%|██████████| 575/575 [06:14<00:00,  1.53it/s]\n",
      "                 Class     Images  Instances      Box(P          R      mAP50  mAP50-95): 100%|██████████| 24/24 [00:20<00:00,  1.15it/s]"
     ]
    },
    {
     "name": "stdout",
     "output_type": "stream",
     "text": [
      "                   all        767       6236      0.928      0.908       0.96      0.717\n"
     ]
    },
    {
     "name": "stderr",
     "output_type": "stream",
     "text": [
      "\n"
     ]
    },
    {
     "name": "stdout",
     "output_type": "stream",
     "text": [
      "\n",
      "      Epoch    GPU_mem   box_loss   cls_loss   dfl_loss  Instances       Size\n"
     ]
    },
    {
     "name": "stderr",
     "output_type": "stream",
     "text": [
      "      10/40      4.09G      1.019     0.7749      1.227        197        640: 100%|██████████| 575/575 [06:43<00:00,  1.42it/s]\n",
      "                 Class     Images  Instances      Box(P          R      mAP50  mAP50-95): 100%|██████████| 24/24 [00:14<00:00,  1.68it/s]"
     ]
    },
    {
     "name": "stdout",
     "output_type": "stream",
     "text": [
      "                   all        767       6236      0.935      0.943      0.969      0.722\n"
     ]
    },
    {
     "name": "stderr",
     "output_type": "stream",
     "text": [
      "\n"
     ]
    },
    {
     "name": "stdout",
     "output_type": "stream",
     "text": [
      "\n",
      "      Epoch    GPU_mem   box_loss   cls_loss   dfl_loss  Instances       Size\n"
     ]
    },
    {
     "name": "stderr",
     "output_type": "stream",
     "text": [
      "      11/40      4.03G      1.014     0.7497      1.223        244        640: 100%|██████████| 575/575 [06:14<00:00,  1.53it/s]\n",
      "                 Class     Images  Instances      Box(P          R      mAP50  mAP50-95): 100%|██████████| 24/24 [00:13<00:00,  1.72it/s]"
     ]
    },
    {
     "name": "stdout",
     "output_type": "stream",
     "text": [
      "                   all        767       6236      0.962      0.927      0.967      0.721\n"
     ]
    },
    {
     "name": "stderr",
     "output_type": "stream",
     "text": [
      "\n"
     ]
    },
    {
     "name": "stdout",
     "output_type": "stream",
     "text": [
      "\n",
      "      Epoch    GPU_mem   box_loss   cls_loss   dfl_loss  Instances       Size\n"
     ]
    },
    {
     "name": "stderr",
     "output_type": "stream",
     "text": [
      "      12/40      4.03G      1.002     0.7257      1.215        181        640: 100%|██████████| 575/575 [06:14<00:00,  1.54it/s]\n",
      "                 Class     Images  Instances      Box(P          R      mAP50  mAP50-95): 100%|██████████| 24/24 [00:15<00:00,  1.60it/s]"
     ]
    },
    {
     "name": "stdout",
     "output_type": "stream",
     "text": [
      "                   all        767       6236      0.956      0.934      0.968       0.73\n"
     ]
    },
    {
     "name": "stderr",
     "output_type": "stream",
     "text": [
      "\n"
     ]
    },
    {
     "name": "stdout",
     "output_type": "stream",
     "text": [
      "\n",
      "      Epoch    GPU_mem   box_loss   cls_loss   dfl_loss  Instances       Size\n"
     ]
    },
    {
     "name": "stderr",
     "output_type": "stream",
     "text": [
      "      13/40      4.04G     0.9988     0.7058      1.207        189        640: 100%|██████████| 575/575 [06:12<00:00,  1.54it/s]\n",
      "                 Class     Images  Instances      Box(P          R      mAP50  mAP50-95): 100%|██████████| 24/24 [00:20<00:00,  1.15it/s]"
     ]
    },
    {
     "name": "stdout",
     "output_type": "stream",
     "text": [
      "                   all        767       6236      0.952      0.937      0.968      0.724\n"
     ]
    },
    {
     "name": "stderr",
     "output_type": "stream",
     "text": [
      "\n"
     ]
    },
    {
     "name": "stdout",
     "output_type": "stream",
     "text": [
      "\n",
      "      Epoch    GPU_mem   box_loss   cls_loss   dfl_loss  Instances       Size\n"
     ]
    },
    {
     "name": "stderr",
     "output_type": "stream",
     "text": [
      "      14/40      4.03G     0.9897     0.6863      1.203        202        640: 100%|██████████| 575/575 [06:12<00:00,  1.54it/s]\n",
      "                 Class     Images  Instances      Box(P          R      mAP50  mAP50-95): 100%|██████████| 24/24 [00:18<00:00,  1.32it/s]"
     ]
    },
    {
     "name": "stdout",
     "output_type": "stream",
     "text": [
      "                   all        767       6236      0.957       0.94      0.971      0.733\n"
     ]
    },
    {
     "name": "stderr",
     "output_type": "stream",
     "text": [
      "\n"
     ]
    },
    {
     "name": "stdout",
     "output_type": "stream",
     "text": [
      "\n",
      "      Epoch    GPU_mem   box_loss   cls_loss   dfl_loss  Instances       Size\n"
     ]
    },
    {
     "name": "stderr",
     "output_type": "stream",
     "text": [
      "      15/40      4.04G     0.9859     0.6746      1.199        239        640: 100%|██████████| 575/575 [06:15<00:00,  1.53it/s]\n",
      "                 Class     Images  Instances      Box(P          R      mAP50  mAP50-95): 100%|██████████| 24/24 [00:13<00:00,  1.73it/s]"
     ]
    },
    {
     "name": "stdout",
     "output_type": "stream",
     "text": [
      "                   all        767       6236      0.944      0.948       0.97      0.733\n"
     ]
    },
    {
     "name": "stderr",
     "output_type": "stream",
     "text": [
      "\n"
     ]
    },
    {
     "name": "stdout",
     "output_type": "stream",
     "text": [
      "\n",
      "      Epoch    GPU_mem   box_loss   cls_loss   dfl_loss  Instances       Size\n"
     ]
    },
    {
     "name": "stderr",
     "output_type": "stream",
     "text": [
      "      16/40      4.03G     0.9842     0.6635        1.2        253        640: 100%|██████████| 575/575 [06:15<00:00,  1.53it/s]\n",
      "                 Class     Images  Instances      Box(P          R      mAP50  mAP50-95): 100%|██████████| 24/24 [00:15<00:00,  1.54it/s]"
     ]
    },
    {
     "name": "stdout",
     "output_type": "stream",
     "text": [
      "                   all        767       6236      0.956      0.947      0.975      0.739\n"
     ]
    },
    {
     "name": "stderr",
     "output_type": "stream",
     "text": [
      "\n"
     ]
    },
    {
     "name": "stdout",
     "output_type": "stream",
     "text": [
      "\n",
      "      Epoch    GPU_mem   box_loss   cls_loss   dfl_loss  Instances       Size\n"
     ]
    },
    {
     "name": "stderr",
     "output_type": "stream",
     "text": [
      "      17/40      4.13G     0.9755      0.648      1.191        218        640: 100%|██████████| 575/575 [06:41<00:00,  1.43it/s]\n",
      "                 Class     Images  Instances      Box(P          R      mAP50  mAP50-95): 100%|██████████| 24/24 [00:13<00:00,  1.72it/s]"
     ]
    },
    {
     "name": "stdout",
     "output_type": "stream",
     "text": [
      "                   all        767       6236      0.948      0.959      0.975      0.743\n"
     ]
    },
    {
     "name": "stderr",
     "output_type": "stream",
     "text": [
      "\n"
     ]
    },
    {
     "name": "stdout",
     "output_type": "stream",
     "text": [
      "\n",
      "      Epoch    GPU_mem   box_loss   cls_loss   dfl_loss  Instances       Size\n"
     ]
    },
    {
     "name": "stderr",
     "output_type": "stream",
     "text": [
      "      18/40      4.03G     0.9735     0.6407      1.191        237        640: 100%|██████████| 575/575 [06:12<00:00,  1.54it/s]\n",
      "                 Class     Images  Instances      Box(P          R      mAP50  mAP50-95): 100%|██████████| 24/24 [00:19<00:00,  1.20it/s]"
     ]
    },
    {
     "name": "stdout",
     "output_type": "stream",
     "text": [
      "                   all        767       6236      0.954      0.951      0.971      0.736\n"
     ]
    },
    {
     "name": "stderr",
     "output_type": "stream",
     "text": [
      "\n"
     ]
    },
    {
     "name": "stdout",
     "output_type": "stream",
     "text": [
      "\n",
      "      Epoch    GPU_mem   box_loss   cls_loss   dfl_loss  Instances       Size\n"
     ]
    },
    {
     "name": "stderr",
     "output_type": "stream",
     "text": [
      "      19/40      4.03G     0.9646     0.6275      1.183        210        640: 100%|██████████| 575/575 [06:12<00:00,  1.54it/s]\n",
      "                 Class     Images  Instances      Box(P          R      mAP50  mAP50-95): 100%|██████████| 24/24 [00:18<00:00,  1.33it/s]"
     ]
    },
    {
     "name": "stdout",
     "output_type": "stream",
     "text": [
      "                   all        767       6236      0.962      0.948      0.977      0.744\n"
     ]
    },
    {
     "name": "stderr",
     "output_type": "stream",
     "text": [
      "\n"
     ]
    },
    {
     "name": "stdout",
     "output_type": "stream",
     "text": [
      "\n",
      "      Epoch    GPU_mem   box_loss   cls_loss   dfl_loss  Instances       Size\n"
     ]
    },
    {
     "name": "stderr",
     "output_type": "stream",
     "text": [
      "      20/40      4.03G     0.9651     0.6166      1.183        229        640: 100%|██████████| 575/575 [06:10<00:00,  1.55it/s]\n",
      "                 Class     Images  Instances      Box(P          R      mAP50  mAP50-95): 100%|██████████| 24/24 [00:15<00:00,  1.59it/s]"
     ]
    },
    {
     "name": "stdout",
     "output_type": "stream",
     "text": [
      "                   all        767       6236      0.963      0.959      0.975      0.743\n"
     ]
    },
    {
     "name": "stderr",
     "output_type": "stream",
     "text": [
      "\n"
     ]
    },
    {
     "name": "stdout",
     "output_type": "stream",
     "text": [
      "\n",
      "      Epoch    GPU_mem   box_loss   cls_loss   dfl_loss  Instances       Size\n"
     ]
    },
    {
     "name": "stderr",
     "output_type": "stream",
     "text": [
      "      21/40      4.11G     0.9633       0.61      1.182        270        640: 100%|██████████| 575/575 [06:09<00:00,  1.56it/s]\n",
      "                 Class     Images  Instances      Box(P          R      mAP50  mAP50-95): 100%|██████████| 24/24 [00:20<00:00,  1.15it/s]"
     ]
    },
    {
     "name": "stdout",
     "output_type": "stream",
     "text": [
      "                   all        767       6236      0.957      0.959      0.976       0.74\n"
     ]
    },
    {
     "name": "stderr",
     "output_type": "stream",
     "text": [
      "\n"
     ]
    },
    {
     "name": "stdout",
     "output_type": "stream",
     "text": [
      "\n",
      "      Epoch    GPU_mem   box_loss   cls_loss   dfl_loss  Instances       Size\n"
     ]
    },
    {
     "name": "stderr",
     "output_type": "stream",
     "text": [
      "      22/40      4.03G     0.9557     0.6056      1.175        210        640: 100%|██████████| 575/575 [06:12<00:00,  1.54it/s]\n",
      "                 Class     Images  Instances      Box(P          R      mAP50  mAP50-95): 100%|██████████| 24/24 [00:14<00:00,  1.65it/s]"
     ]
    },
    {
     "name": "stdout",
     "output_type": "stream",
     "text": [
      "                   all        767       6236      0.962      0.961      0.976      0.747\n"
     ]
    },
    {
     "name": "stderr",
     "output_type": "stream",
     "text": [
      "\n"
     ]
    },
    {
     "name": "stdout",
     "output_type": "stream",
     "text": [
      "\n",
      "      Epoch    GPU_mem   box_loss   cls_loss   dfl_loss  Instances       Size\n"
     ]
    },
    {
     "name": "stderr",
     "output_type": "stream",
     "text": [
      "      23/40      4.03G     0.9565     0.5994      1.175        223        640: 100%|██████████| 575/575 [06:12<00:00,  1.54it/s]\n",
      "                 Class     Images  Instances      Box(P          R      mAP50  mAP50-95): 100%|██████████| 24/24 [00:13<00:00,  1.75it/s]"
     ]
    },
    {
     "name": "stdout",
     "output_type": "stream",
     "text": [
      "                   all        767       6236      0.963       0.96      0.975      0.745\n"
     ]
    },
    {
     "name": "stderr",
     "output_type": "stream",
     "text": [
      "\n"
     ]
    },
    {
     "name": "stdout",
     "output_type": "stream",
     "text": [
      "\n",
      "      Epoch    GPU_mem   box_loss   cls_loss   dfl_loss  Instances       Size\n"
     ]
    },
    {
     "name": "stderr",
     "output_type": "stream",
     "text": [
      "      24/40      4.03G     0.9519     0.5867      1.172        225        640: 100%|██████████| 575/575 [06:11<00:00,  1.55it/s]\n",
      "                 Class     Images  Instances      Box(P          R      mAP50  mAP50-95): 100%|██████████| 24/24 [00:20<00:00,  1.14it/s]"
     ]
    },
    {
     "name": "stdout",
     "output_type": "stream",
     "text": [
      "                   all        767       6236      0.969      0.953      0.976      0.748\n"
     ]
    },
    {
     "name": "stderr",
     "output_type": "stream",
     "text": [
      "\n"
     ]
    },
    {
     "name": "stdout",
     "output_type": "stream",
     "text": [
      "\n",
      "      Epoch    GPU_mem   box_loss   cls_loss   dfl_loss  Instances       Size\n"
     ]
    },
    {
     "name": "stderr",
     "output_type": "stream",
     "text": [
      "      25/40      4.15G     0.9505     0.5859       1.17        232        640: 100%|██████████| 575/575 [06:20<00:00,  1.51it/s]\n",
      "                 Class     Images  Instances      Box(P          R      mAP50  mAP50-95): 100%|██████████| 24/24 [00:14<00:00,  1.61it/s]"
     ]
    },
    {
     "name": "stdout",
     "output_type": "stream",
     "text": [
      "                   all        767       6236      0.962      0.961      0.977      0.752\n"
     ]
    },
    {
     "name": "stderr",
     "output_type": "stream",
     "text": [
      "\n"
     ]
    },
    {
     "name": "stdout",
     "output_type": "stream",
     "text": [
      "\n",
      "      Epoch    GPU_mem   box_loss   cls_loss   dfl_loss  Instances       Size\n"
     ]
    },
    {
     "name": "stderr",
     "output_type": "stream",
     "text": [
      "      26/40      4.11G      0.946     0.5781      1.171        192        640: 100%|██████████| 575/575 [06:13<00:00,  1.54it/s]\n",
      "                 Class     Images  Instances      Box(P          R      mAP50  mAP50-95): 100%|██████████| 24/24 [00:14<00:00,  1.66it/s]"
     ]
    },
    {
     "name": "stdout",
     "output_type": "stream",
     "text": [
      "                   all        767       6236      0.961      0.959      0.976      0.751\n"
     ]
    },
    {
     "name": "stderr",
     "output_type": "stream",
     "text": [
      "\n"
     ]
    },
    {
     "name": "stdout",
     "output_type": "stream",
     "text": [
      "\n",
      "      Epoch    GPU_mem   box_loss   cls_loss   dfl_loss  Instances       Size\n"
     ]
    },
    {
     "name": "stderr",
     "output_type": "stream",
     "text": [
      "      27/40      4.03G     0.9478     0.5739       1.17        218        640: 100%|██████████| 575/575 [06:12<00:00,  1.54it/s]\n",
      "                 Class     Images  Instances      Box(P          R      mAP50  mAP50-95): 100%|██████████| 24/24 [00:19<00:00,  1.23it/s]"
     ]
    },
    {
     "name": "stdout",
     "output_type": "stream",
     "text": [
      "                   all        767       6236      0.964      0.963      0.976      0.749\n"
     ]
    },
    {
     "name": "stderr",
     "output_type": "stream",
     "text": [
      "\n"
     ]
    },
    {
     "name": "stdout",
     "output_type": "stream",
     "text": [
      "\n",
      "      Epoch    GPU_mem   box_loss   cls_loss   dfl_loss  Instances       Size\n"
     ]
    },
    {
     "name": "stderr",
     "output_type": "stream",
     "text": [
      "      28/40      4.03G     0.9407     0.5681      1.166        222        640: 100%|██████████| 575/575 [06:13<00:00,  1.54it/s]\n",
      "                 Class     Images  Instances      Box(P          R      mAP50  mAP50-95): 100%|██████████| 24/24 [00:15<00:00,  1.54it/s]"
     ]
    },
    {
     "name": "stdout",
     "output_type": "stream",
     "text": [
      "                   all        767       6236      0.962      0.958      0.975       0.75\n"
     ]
    },
    {
     "name": "stderr",
     "output_type": "stream",
     "text": [
      "\n"
     ]
    },
    {
     "name": "stdout",
     "output_type": "stream",
     "text": [
      "\n",
      "      Epoch    GPU_mem   box_loss   cls_loss   dfl_loss  Instances       Size\n"
     ]
    },
    {
     "name": "stderr",
     "output_type": "stream",
     "text": [
      "      29/40      4.03G     0.9448     0.5672      1.166        194        640: 100%|██████████| 575/575 [06:15<00:00,  1.53it/s]\n",
      "                 Class     Images  Instances      Box(P          R      mAP50  mAP50-95): 100%|██████████| 24/24 [00:13<00:00,  1.76it/s]"
     ]
    },
    {
     "name": "stdout",
     "output_type": "stream",
     "text": [
      "                   all        767       6236      0.972       0.96      0.975      0.751\n"
     ]
    },
    {
     "name": "stderr",
     "output_type": "stream",
     "text": [
      "\n"
     ]
    },
    {
     "name": "stdout",
     "output_type": "stream",
     "text": [
      "\n",
      "      Epoch    GPU_mem   box_loss   cls_loss   dfl_loss  Instances       Size\n"
     ]
    },
    {
     "name": "stderr",
     "output_type": "stream",
     "text": [
      "      30/40      4.02G     0.9385     0.5626      1.163        210        640: 100%|██████████| 575/575 [06:13<00:00,  1.54it/s]\n",
      "                 Class     Images  Instances      Box(P          R      mAP50  mAP50-95): 100%|██████████| 24/24 [00:13<00:00,  1.72it/s]"
     ]
    },
    {
     "name": "stdout",
     "output_type": "stream",
     "text": [
      "                   all        767       6236      0.965      0.961      0.977      0.753\n"
     ]
    },
    {
     "name": "stderr",
     "output_type": "stream",
     "text": [
      "\n"
     ]
    },
    {
     "name": "stdout",
     "output_type": "stream",
     "text": [
      "Closing dataloader mosaic\n",
      "\n",
      "      Epoch    GPU_mem   box_loss   cls_loss   dfl_loss  Instances       Size\n"
     ]
    },
    {
     "name": "stderr",
     "output_type": "stream",
     "text": [
      "      31/40      4.05G     0.8984     0.4526      1.135        116        640: 100%|██████████| 575/575 [06:11<00:00,  1.55it/s]\n",
      "                 Class     Images  Instances      Box(P          R      mAP50  mAP50-95): 100%|██████████| 24/24 [00:15<00:00,  1.52it/s]"
     ]
    },
    {
     "name": "stdout",
     "output_type": "stream",
     "text": [
      "                   all        767       6236      0.964      0.959      0.976      0.751\n"
     ]
    },
    {
     "name": "stderr",
     "output_type": "stream",
     "text": [
      "\n"
     ]
    },
    {
     "name": "stdout",
     "output_type": "stream",
     "text": [
      "\n",
      "      Epoch    GPU_mem   box_loss   cls_loss   dfl_loss  Instances       Size\n"
     ]
    },
    {
     "name": "stderr",
     "output_type": "stream",
     "text": [
      "      32/40      4.05G     0.8905     0.4376      1.132        103        640: 100%|██████████| 575/575 [06:13<00:00,  1.54it/s]\n",
      "                 Class     Images  Instances      Box(P          R      mAP50  mAP50-95): 100%|██████████| 24/24 [00:15<00:00,  1.57it/s]"
     ]
    },
    {
     "name": "stdout",
     "output_type": "stream",
     "text": [
      "                   all        767       6236      0.972      0.954      0.976      0.754\n"
     ]
    },
    {
     "name": "stderr",
     "output_type": "stream",
     "text": [
      "\n"
     ]
    },
    {
     "name": "stdout",
     "output_type": "stream",
     "text": [
      "\n",
      "      Epoch    GPU_mem   box_loss   cls_loss   dfl_loss  Instances       Size\n"
     ]
    },
    {
     "name": "stderr",
     "output_type": "stream",
     "text": [
      "      33/40      4.05G     0.8878      0.433      1.129        113        640: 100%|██████████| 575/575 [06:09<00:00,  1.56it/s]\n",
      "                 Class     Images  Instances      Box(P          R      mAP50  mAP50-95): 100%|██████████| 24/24 [00:14<00:00,  1.69it/s]"
     ]
    },
    {
     "name": "stdout",
     "output_type": "stream",
     "text": [
      "                   all        767       6236      0.968      0.961      0.976      0.752\n"
     ]
    },
    {
     "name": "stderr",
     "output_type": "stream",
     "text": [
      "\n"
     ]
    },
    {
     "name": "stdout",
     "output_type": "stream",
     "text": [
      "\n",
      "      Epoch    GPU_mem   box_loss   cls_loss   dfl_loss  Instances       Size\n"
     ]
    },
    {
     "name": "stderr",
     "output_type": "stream",
     "text": [
      "      34/40      4.05G      0.882     0.4274      1.127        111        640: 100%|██████████| 575/575 [06:13<00:00,  1.54it/s]\n",
      "                 Class     Images  Instances      Box(P          R      mAP50  mAP50-95): 100%|██████████| 24/24 [00:17<00:00,  1.39it/s]"
     ]
    },
    {
     "name": "stdout",
     "output_type": "stream",
     "text": [
      "                   all        767       6236       0.97      0.959      0.977      0.754\n"
     ]
    },
    {
     "name": "stderr",
     "output_type": "stream",
     "text": [
      "\n"
     ]
    },
    {
     "name": "stdout",
     "output_type": "stream",
     "text": [
      "\n",
      "      Epoch    GPU_mem   box_loss   cls_loss   dfl_loss  Instances       Size\n"
     ]
    },
    {
     "name": "stderr",
     "output_type": "stream",
     "text": [
      "      35/40      4.05G     0.8822     0.4242      1.125        105        640: 100%|██████████| 575/575 [06:16<00:00,  1.53it/s]\n",
      "                 Class     Images  Instances      Box(P          R      mAP50  mAP50-95): 100%|██████████| 24/24 [00:15<00:00,  1.54it/s]"
     ]
    },
    {
     "name": "stdout",
     "output_type": "stream",
     "text": [
      "                   all        767       6236      0.968      0.962      0.977      0.757\n"
     ]
    },
    {
     "name": "stderr",
     "output_type": "stream",
     "text": [
      "\n"
     ]
    },
    {
     "name": "stdout",
     "output_type": "stream",
     "text": [
      "\n",
      "      Epoch    GPU_mem   box_loss   cls_loss   dfl_loss  Instances       Size\n"
     ]
    },
    {
     "name": "stderr",
     "output_type": "stream",
     "text": [
      "      36/40      4.05G     0.8772     0.4206      1.122        116        640: 100%|██████████| 575/575 [06:16<00:00,  1.53it/s]\n",
      "                 Class     Images  Instances      Box(P          R      mAP50  mAP50-95): 100%|██████████| 24/24 [00:16<00:00,  1.48it/s]"
     ]
    },
    {
     "name": "stdout",
     "output_type": "stream",
     "text": [
      "                   all        767       6236      0.967      0.963      0.978      0.754\n"
     ]
    },
    {
     "name": "stderr",
     "output_type": "stream",
     "text": [
      "\n"
     ]
    },
    {
     "name": "stdout",
     "output_type": "stream",
     "text": [
      "\n",
      "      Epoch    GPU_mem   box_loss   cls_loss   dfl_loss  Instances       Size\n"
     ]
    },
    {
     "name": "stderr",
     "output_type": "stream",
     "text": [
      "      37/40      4.05G     0.8756     0.4178      1.119        113        640: 100%|██████████| 575/575 [06:14<00:00,  1.53it/s]\n",
      "                 Class     Images  Instances      Box(P          R      mAP50  mAP50-95): 100%|██████████| 24/24 [00:16<00:00,  1.41it/s]"
     ]
    },
    {
     "name": "stdout",
     "output_type": "stream",
     "text": [
      "                   all        767       6236      0.967      0.965      0.977      0.753\n"
     ]
    },
    {
     "name": "stderr",
     "output_type": "stream",
     "text": [
      "\n"
     ]
    },
    {
     "name": "stdout",
     "output_type": "stream",
     "text": [
      "\n",
      "      Epoch    GPU_mem   box_loss   cls_loss   dfl_loss  Instances       Size\n"
     ]
    },
    {
     "name": "stderr",
     "output_type": "stream",
     "text": [
      "      38/40      4.07G     0.8734     0.4138      1.118        107        640: 100%|██████████| 575/575 [06:22<00:00,  1.50it/s]\n",
      "                 Class     Images  Instances      Box(P          R      mAP50  mAP50-95): 100%|██████████| 24/24 [00:20<00:00,  1.19it/s]"
     ]
    },
    {
     "name": "stdout",
     "output_type": "stream",
     "text": [
      "                   all        767       6236      0.969      0.962      0.977      0.753\n"
     ]
    },
    {
     "name": "stderr",
     "output_type": "stream",
     "text": [
      "\n"
     ]
    },
    {
     "name": "stdout",
     "output_type": "stream",
     "text": [
      "\n",
      "      Epoch    GPU_mem   box_loss   cls_loss   dfl_loss  Instances       Size\n"
     ]
    },
    {
     "name": "stderr",
     "output_type": "stream",
     "text": [
      "      39/40      4.05G     0.8704     0.4134      1.119        112        640: 100%|██████████| 575/575 [06:22<00:00,  1.50it/s]\n",
      "                 Class     Images  Instances      Box(P          R      mAP50  mAP50-95): 100%|██████████| 24/24 [00:15<00:00,  1.53it/s]"
     ]
    },
    {
     "name": "stdout",
     "output_type": "stream",
     "text": [
      "                   all        767       6236      0.972      0.961      0.977      0.752\n"
     ]
    },
    {
     "name": "stderr",
     "output_type": "stream",
     "text": [
      "\n"
     ]
    },
    {
     "name": "stdout",
     "output_type": "stream",
     "text": [
      "\n",
      "      Epoch    GPU_mem   box_loss   cls_loss   dfl_loss  Instances       Size\n"
     ]
    },
    {
     "name": "stderr",
     "output_type": "stream",
     "text": [
      "      40/40      4.07G     0.8694     0.4122      1.116        113        640: 100%|██████████| 575/575 [06:17<00:00,  1.52it/s]\n",
      "                 Class     Images  Instances      Box(P          R      mAP50  mAP50-95): 100%|██████████| 24/24 [00:16<00:00,  1.44it/s]"
     ]
    },
    {
     "name": "stdout",
     "output_type": "stream",
     "text": [
      "                   all        767       6236      0.966      0.965      0.977      0.752\n"
     ]
    },
    {
     "name": "stderr",
     "output_type": "stream",
     "text": [
      "\n"
     ]
    },
    {
     "name": "stdout",
     "output_type": "stream",
     "text": [
      "\n",
      "40 epochs completed in 4.398 hours.\n",
      "Optimizer stripped from runs\\detect\\train12\\weights\\last.pt, 6.3MB\n",
      "Optimizer stripped from runs\\detect\\train12\\weights\\best.pt, 6.3MB\n",
      "\n",
      "Validating runs\\detect\\train12\\weights\\best.pt...\n",
      "Ultralytics YOLOv8.2.79  Python-3.11.9 torch-2.4.0 CUDA:0 (NVIDIA GeForce GTX 1650, 4096MiB)\n",
      "YOLOv8n summary (fused): 168 layers, 3,012,668 parameters, 0 gradients\n"
     ]
    },
    {
     "name": "stderr",
     "output_type": "stream",
     "text": [
      "                 Class     Images  Instances      Box(P          R      mAP50  mAP50-95): 100%|██████████| 24/24 [00:17<00:00,  1.37it/s]\n"
     ]
    },
    {
     "name": "stdout",
     "output_type": "stream",
     "text": [
      "                   all        767       6236      0.966      0.963      0.977      0.757\n",
      "                     0        529        836       0.99      0.982      0.992      0.681\n",
      "                     1        408        541      0.996      0.985      0.994      0.786\n",
      "                     2        328        423      0.995      0.991      0.995      0.791\n",
      "                     3        330        425      0.991      0.985      0.992      0.746\n",
      "                     4        523        754      0.989      0.983      0.988      0.784\n",
      "                     5        328        428      0.977      0.982      0.992      0.786\n",
      "                     6        314        418      0.988      0.981      0.991      0.768\n",
      "                     7        287        373      0.978      0.979      0.992      0.776\n",
      "                     8        459        630      0.992      0.991      0.995      0.794\n",
      "                     9         61         64      0.971          1      0.994      0.721\n",
      "                     A        150        153      0.973      0.959      0.983      0.783\n",
      "                     B         52         52      0.979      0.915      0.974      0.769\n",
      "                     C         54         56      0.874      0.911      0.933      0.703\n",
      "                     D         40         40      0.987          1      0.995      0.786\n",
      "                     E         72         72      0.989      0.986      0.995       0.77\n",
      "                     F         64         68      0.983      0.971      0.985      0.729\n",
      "                     G         39         39      0.977      0.846      0.958      0.781\n",
      "                     H         33         34          1      0.994      0.995      0.734\n",
      "                     I         41         42      0.988          1      0.995      0.739\n",
      "                     J         56         60      0.931      0.897      0.957      0.751\n",
      "                     K         22         22      0.723      0.832      0.863      0.685\n",
      "                     L         34         34          1       0.95      0.976      0.769\n",
      "                     M         40         40          1      0.988      0.995      0.749\n",
      "                     N         33         33      0.994          1      0.995      0.797\n",
      "                     O         31         31      0.973      0.968      0.973      0.746\n",
      "                     P         17         17      0.934      0.941      0.929      0.734\n",
      "                     Q         26         26      0.993          1      0.995      0.743\n",
      "                     R          9          9      0.834      0.889      0.888      0.759\n",
      "                     S         50         55      0.994          1      0.995      0.752\n",
      "                     T        358        461      0.985      0.987      0.992      0.787\n",
      "Speed: 0.3ms preprocess, 13.1ms inference, 0.0ms loss, 1.9ms postprocess per image\n",
      "Results saved to \u001b[1mruns\\detect\\train12\u001b[0m\n",
      "Ultralytics YOLOv8.2.79  Python-3.11.9 torch-2.4.0 CUDA:0 (NVIDIA GeForce GTX 1650, 4096MiB)\n",
      "YOLOv8n summary (fused): 168 layers, 3,012,668 parameters, 0 gradients\n"
     ]
    },
    {
     "name": "stderr",
     "output_type": "stream",
     "text": [
      "\u001b[34m\u001b[1mval: \u001b[0mScanning C:\\Users\\Hokta\\OneDrive\\Máy tính\\TTDN_20233\\DataSet\\yoloData\\OCR\\labels\\val.cache... 767 images, 2 backgrounds, 0 corrupt: 100%|██████████| 767/767 [00:00<?, ?it/s]\n",
      "                 Class     Images  Instances      Box(P          R      mAP50  mAP50-95): 100%|██████████| 48/48 [00:12<00:00,  3.80it/s]\n"
     ]
    },
    {
     "name": "stdout",
     "output_type": "stream",
     "text": [
      "                   all        767       6236      0.967      0.963      0.976      0.756\n",
      "                     0        529        836       0.99      0.982      0.992      0.683\n",
      "                     1        408        541      0.996      0.985      0.994      0.785\n",
      "                     2        328        423      0.995      0.991      0.995      0.786\n",
      "                     3        330        425      0.991      0.985      0.992      0.746\n",
      "                     4        523        754      0.989      0.983      0.989      0.784\n",
      "                     5        328        428      0.977      0.982      0.992      0.787\n",
      "                     6        314        418      0.991      0.981      0.991      0.768\n",
      "                     7        287        373      0.978      0.979      0.992      0.775\n",
      "                     8        459        630      0.992      0.991      0.995      0.795\n",
      "                     9         61         64      0.971          1      0.994      0.723\n",
      "                     A        150        153      0.973      0.959      0.983      0.777\n",
      "                     B         52         52       0.98      0.904      0.974      0.772\n",
      "                     C         54         56       0.88      0.918      0.926      0.699\n",
      "                     D         40         40      0.987          1      0.995      0.793\n",
      "                     E         72         72       0.99      0.986      0.995      0.768\n",
      "                     F         64         68      0.983      0.971      0.985      0.731\n",
      "                     G         39         39      0.977      0.846      0.956      0.781\n",
      "                     H         33         34          1      0.993      0.995      0.726\n",
      "                     I         41         42      0.988          1      0.995      0.738\n",
      "                     J         56         60      0.931      0.898      0.957       0.75\n",
      "                     K         22         22      0.723      0.833      0.867      0.691\n",
      "                     L         34         34          1       0.95      0.976      0.758\n",
      "                     M         40         40          1      0.988      0.995      0.749\n",
      "                     N         33         33      0.994          1      0.995      0.796\n",
      "                     O         31         31      0.973      0.968      0.973       0.75\n",
      "                     P         17         17      0.934      0.941      0.929      0.736\n",
      "                     Q         26         26      0.993          1      0.995      0.735\n",
      "                     R          9          9      0.835      0.889      0.888      0.767\n",
      "                     S         50         55          1      0.994      0.995      0.751\n",
      "                     T        358        461      0.985      0.987      0.992      0.787\n",
      "Speed: 0.4ms preprocess, 6.6ms inference, 0.0ms loss, 1.7ms postprocess per image\n",
      "Results saved to \u001b[1mruns\\detect\\train122\u001b[0m\n"
     ]
    }
   ],
   "source": [
    "from ultralytics import YOLO\n",
    "\n",
    "# Tạo mô hình YOLOv8 OBb\n",
    "model = YOLO(\"yolov8n.yaml\")  # build a new model from YAML\n",
    "\n",
    "model = model.to('cuda')  # Đưa mô hình lên GPU\n",
    "\n",
    "# Huấn luyện mô hình\n",
    "model.train(data='characterDetect.yaml', epochs=40, imgsz=640, batch=16, amp=False)\n",
    "\n",
    "metrics = model.val()  # Đánh giá mô hình"
   ]
  },
  {
   "cell_type": "code",
   "execution_count": 110,
   "metadata": {},
   "outputs": [],
   "source": [
    "class_label = [\n",
    "    '1', '2', '3', '4', '5', '6', '7', '8', '9',\n",
    "    'A', 'B', 'C', 'D', 'E', 'F', 'G', 'H',\n",
    "    'K', 'L', 'M', 'N', 'P', 'S', 'T',\n",
    "    'U', 'V', 'X', 'Y', 'Z', '0'\n",
    "]\n"
   ]
  },
  {
   "cell_type": "markdown",
   "metadata": {},
   "source": [
    "**Dự đoán biển số 1 dòng!**"
   ]
  },
  {
   "cell_type": "markdown",
   "metadata": {},
   "source": [
    "Biển số xe có 2 loại: biển gồm 2 hàng và 1 hàng. Thì đây là cách đặt tên để lấy giá trị biển số xe tương ứng\n",
    "VD: 29A99999\n",
    "// tuy nhiên thì cách lấy biển 2 hàng chưa chặt chẽ lắm: dùng phần tử trên trái để xếp thành 2 hàng (hàng dưới sẽ có chỉ số này lớn hơn gấp 3.5 lần tại phần tử có giá trị cao nhất). Sau đó ở mỗi hàng chia theo trục x để sắp xếp//"
   ]
  },
  {
   "cell_type": "code",
   "execution_count": 111,
   "metadata": {},
   "outputs": [],
   "source": [
    "def oneRow(image):\n",
    "    results = letterModel.predict(image)\n",
    "    # Lấy kết quả dự đoán (danh sách các bounding box và các lớp dự đoán)\n",
    "    detected_characters = []\n",
    "\n",
    "    # Lặp qua các kết quả dự đoán\n",
    "    for r in results:\n",
    "        for box in r.boxes:\n",
    "            cls = int(box.cls[0])  # Chỉ số class\n",
    "            # detected_characters.append((box.xyxy[0], letterModel.names[(cls+1)%len(letterModel.names)]))  # Lưu vị trí và tên class\n",
    "            detected_characters.append((box.xyxy[0], class_label[(cls)%len(letterModel.names)]))  # Lưu vị trí và tên class\n",
    "\n",
    "    # Sắp xếp các ký tự theo tọa độ x (trái -> phải)\n",
    "    detected_characters.sort(key=lambda x: x[0][0])\n",
    "\n",
    "    # Nối các ký tự lại thành chuỗi\n",
    "    plate_number = ''.join([char[1] for char in detected_characters])\n",
    "    return plate_number"
   ]
  },
  {
   "cell_type": "markdown",
   "metadata": {},
   "source": [
    "# Phân tích biển số 2 hàng!"
   ]
  },
  {
   "cell_type": "code",
   "execution_count": 117,
   "metadata": {},
   "outputs": [],
   "source": [
    "def get_bounding_boxes(results):\n",
    "    bounding_boxes = []\n",
    "    for r in results:\n",
    "        for box in r.boxes:\n",
    "            x1, y1, x2, y2 = map(int, box.xyxy[0])\n",
    "            label = class_label[int(box.cls) % len(letterModel.names)]  # Lấy nhãn từ model\n",
    "            \n",
    "            bounding_boxes.append((x1, y1, x2, y2, label))\n",
    "    return bounding_boxes"
   ]
  },
  {
   "cell_type": "code",
   "execution_count": 118,
   "metadata": {},
   "outputs": [],
   "source": [
    "def twoRows(image):\n",
    "\n",
    "    # Tạo 2 danh sách cho 2 hàng\n",
    "    row1 = []\n",
    "    row2 = []\n",
    "\n",
    "    boxes = get_bounding_boxes(letterModel.predict(image))\n",
    "    \n",
    "    # Sắp xếp các bounding box theo tọa độ góc trên bên trái\n",
    "    sorted_boxes = sorted(boxes, key=lambda box: box[1])  # Sắp xếp theo y1\n",
    "\n",
    "    # Xác định điểm phân chia giữa 2 hàng\n",
    "    if len(sorted_boxes) == 0:\n",
    "        return 'Cannot detect'\n",
    "\n",
    "    # Lấy tọa độ góc trên bên trái của bounding box đầu tiên (để phân chia)\n",
    "    y1_threshold = sorted_boxes[0][1] * 3.5\n",
    "\n",
    "    for box in sorted_boxes:\n",
    "        x1, y1, x2, y2, label = box  # Đảm bảo rằng `box` chứa 5 phần tử\n",
    "        if y1 > y1_threshold:\n",
    "            row2.append(box)  # Thêm `box` vào `row2` (không cần chuyển thành chuỗi)\n",
    "        else:\n",
    "            row1.append(box)  # Thêm `box` vào `row1` (không cần chuyển thành chuỗi)\n",
    "\n",
    "    # Sắp xếp `row1` và `row2` theo tọa độ x1 (phần tử đầu tiên)\n",
    "    row1.sort(key=lambda x: x[0])\n",
    "    row2.sort(key=lambda x: x[0])\n",
    "\n",
    "    # Tạo chuỗi kết quả bằng cách nối các nhãn (label) từ phần tử thứ 5 của mỗi `box`\n",
    "    result_string = ''.join([row[4] for row in row1]) + ''.join([row[4] for row in row2])\n",
    "\n",
    "    # In kết quả\n",
    "    print(\"result: \", result_string)\n",
    "\n",
    "\n",
    "    print(\"result: \", result_string)  # In ra kết quả\n",
    "\n",
    "    return result_string"
   ]
  },
  {
   "cell_type": "code",
   "execution_count": 93,
   "metadata": {},
   "outputs": [],
   "source": [
    "def unsharp_masking(image, sigma=1.0, amount=0.5):\n",
    "    \"\"\"\n",
    "    Áp dụng Unsharp Masking để làm nét ảnh.\n",
    "    \n",
    "    Args:\n",
    "    - image: Ảnh gốc (BGR format).\n",
    "    - sigma: Kích thước của Gaussian blur.\n",
    "    - amount: Độ mạnh của việc làm nét.\n",
    "    \n",
    "    Returns:\n",
    "    - Ảnh đã làm nét.\n",
    "    \"\"\"\n",
    "    # Tạo ảnh mờ bằng Gaussian Blur\n",
    "    blurred = cv2.GaussianBlur(image, (0, 0), sigma)\n",
    "    \n",
    "    # Tính toán ảnh làm nét\n",
    "    sharpened = cv2.addWeighted(image, 1 + amount, blurred, -amount, 0)\n",
    "    \n",
    "    return sharpened"
   ]
  },
  {
   "cell_type": "code",
   "execution_count": 98,
   "metadata": {},
   "outputs": [],
   "source": [
    "def getPlateNumber(image, number):\n",
    "    # image = unsharp_masking(image)\n",
    "\n",
    "    # gray_image = cv2.cvtColor(image, cv2.COLOR_BGR2GRAY)\n",
    "    if number==0:\n",
    "        return oneRow(image)\n",
    "    else:\n",
    "        return twoRows(image)\n"
   ]
  },
  {
   "cell_type": "markdown",
   "metadata": {},
   "source": [
    "Đây là hàm test ảnh !!!"
   ]
  },
  {
   "cell_type": "code",
   "execution_count": 131,
   "metadata": {},
   "outputs": [
    {
     "name": "stdout",
     "output_type": "stream",
     "text": [
      "\n",
      "image 1/1 c:\\Users\\Hokta\\OneDrive\\My tnh\\TTDN_20233\\DataSet\\images\\test\\images.jpg: 480x640 75.5ms\n",
      "Speed: 5.0ms preprocess, 75.5ms inference, 4.5ms postprocess per image at shape (1, 3, 480, 640)\n",
      "\n",
      "0: 480x640 1 0, 2 1s, 1 3, 2 7s, 73.4ms\n",
      "Speed: 5.3ms preprocess, 73.4ms inference, 2.5ms postprocess per image at shape (1, 3, 480, 640)\n",
      "result:  842281\n",
      "result:  842281\n",
      "\n",
      "0: 416x640 1 0, 1 1, 1 3, 1 6, 2 7s, 1 F, 1 T, 67.2ms\n",
      "Speed: 4.0ms preprocess, 67.2ms inference, 1.5ms postprocess per image at shape (1, 3, 416, 640)\n",
      "result:  84G17208\n",
      "result:  84G17208\n"
     ]
    }
   ],
   "source": [
    "import cv2\n",
    "from ultralytics import YOLO\n",
    "import numpy as np\n",
    "\n",
    "# Load the trained model\n",
    "\n",
    "# Path to your image\n",
    "img_path = 'images\\\\test\\\\images.jpg'\n",
    "\n",
    "# Predict the image\n",
    "results = model.predict(img_path)\n",
    "\n",
    "# Load the image\n",
    "img = cv2.imread(img_path)\n",
    "\n",
    "# List to store bounding boxes\n",
    "bbox_list = []\n",
    "label_list = []\n",
    "\n",
    "# Iterate over results and crop image based on OBB\n",
    "for r in results:\n",
    "    if r.obb is not None:  # Kiểm tra nếu thuộc tính obb có tồn tại\n",
    "        for i, obb in enumerate(r.obb.xyxyxyxy, 1):\n",
    "            points = obb.cpu().numpy().reshape((-1, 2)).astype(int)\n",
    "\n",
    "            # Create a mask for the region of interest\n",
    "            mask = np.zeros_like(img)\n",
    "            cv2.fillPoly(mask, [points], (255, 255, 255))\n",
    "\n",
    "            # Apply the mask to get the ROI\n",
    "            cropped_img = cv2.bitwise_and(img, mask)\n",
    "\n",
    "            # Get bounding box to crop the region\n",
    "            x, y, w, h = cv2.boundingRect(points)\n",
    "\n",
    "            # Crop the bounding box area\n",
    "            # Add padding to the bounding box\n",
    "            \n",
    "            padding = 0  # Adjust this value to control the amount of padding\n",
    "            x = max(0, x - padding)\n",
    "            y = max(0, y - padding)\n",
    "            w = min(img.shape[1] - x, w + 2 * padding)  # Ensure width doesn't exceed image bounds\n",
    "            h = min(img.shape[0] - y, h + 2 * padding)  # Ensure height doesn't exceed image bounds\n",
    "\n",
    "            # Crop the bounding box area with padding   \n",
    "            cropped_img = cropped_img[y:y+h, x:x+w]\n",
    "\n",
    "            # Store the bounding box coordinates\n",
    "            bbox_list.append(points)\n",
    "\n",
    "            class_index = int(r.obb.cls[i-1])\n",
    "\n",
    "            label = getPlateNumber(cropped_img, class_index)\n",
    "            label_list.append(label)\n",
    "\n",
    "# Draw bounding boxes on the original image in the order they were shown\n",
    "for i, points in enumerate(bbox_list, 1):\n",
    "    cv2.polylines(img, [points], isClosed=True, color=(0, 255, 0), thickness=2)\n",
    "    cv2.putText(img, label_list[i-1], (points[0][0], points[0][1] - 10), cv2.FONT_HERSHEY_SIMPLEX, 0.7, (0, 255, 0), 2)\n",
    "\n",
    "cv2.imwrite('results.png', img)\n",
    "# Display the final image with bounding boxes\n",
    "cv2.imshow('Final Image with Bounding Boxes', img)\n",
    "cv2.waitKey(0)\n",
    "cv2.destroyAllWindows()\n"
   ]
  }
 ],
 "metadata": {
  "kernelspec": {
   "display_name": "Python 3",
   "language": "python",
   "name": "python3"
  },
  "language_info": {
   "codemirror_mode": {
    "name": "ipython",
    "version": 3
   },
   "file_extension": ".py",
   "mimetype": "text/x-python",
   "name": "python",
   "nbconvert_exporter": "python",
   "pygments_lexer": "ipython3",
   "version": "3.11.9"
  }
 },
 "nbformat": 4,
 "nbformat_minor": 2
}
